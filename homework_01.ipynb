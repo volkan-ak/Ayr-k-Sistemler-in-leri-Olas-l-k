{
  "nbformat": 4,
  "nbformat_minor": 0,
  "metadata": {
    "colab": {
      "name": "homework-01.ipynb",
      "provenance": [],
      "include_colab_link": true
    },
    "kernelspec": {
      "name": "python3",
      "display_name": "Python 3"
    },
    "language_info": {
      "name": "python"
    }
  },
  "cells": [
    {
      "cell_type": "markdown",
      "metadata": {
        "id": "view-in-github",
        "colab_type": "text"
      },
      "source": [
        "<a href=\"https://colab.research.google.com/github/volkan-ak/probability/blob/main/homework_01.ipynb\" target=\"_parent\"><img src=\"https://colab.research.google.com/assets/colab-badge.svg\" alt=\"Open In Colab\"/></a>"
      ]
    },
    {
      "cell_type": "markdown",
      "metadata": {
        "id": "YBiMHsmZdwD9"
      },
      "source": [
        "KOŞULLU OLASILIK\n",
        "\n",
        "5 kişilik grupta 2 kişilik kaç farklı grup oluşturulabilir ?\n",
        "\n",
        "\n"
      ]
    },
    {
      "cell_type": "code",
      "metadata": {
        "colab": {
          "base_uri": "https://localhost:8080/"
        },
        "id": "fZqpRDZJeS96",
        "outputId": "9251934e-0f79-4cb4-9632-2d4c24190618"
      },
      "source": [
        "\n",
        "#Importing combinations module from itertools python package\n",
        "from itertools import combinations\n",
        "\n",
        "#Define Sequence to find its combinations\n",
        "sequence = ['ahmet','mehmet','ali','mustafa','emin']\n",
        "\n",
        "#Applying combinations method with the length of each permutation set to be 2\n",
        "combinations = combinations(sequence, 2)\n",
        "\n",
        "#combinations Interable Object\n",
        "print(combinations)\n",
        "\n",
        "#Loop Through using For Loop\n",
        "for combination in combinations:\n",
        "    print(combination)"
      ],
      "execution_count": 33,
      "outputs": [
        {
          "output_type": "stream",
          "text": [
            "<itertools.combinations object at 0x7f025eb86830>\n",
            "('ahmet', 'mehmet')\n",
            "('ahmet', 'ali')\n",
            "('ahmet', 'mustafa')\n",
            "('ahmet', 'emin')\n",
            "('mehmet', 'ali')\n",
            "('mehmet', 'mustafa')\n",
            "('mehmet', 'emin')\n",
            "('ali', 'mustafa')\n",
            "('ali', 'emin')\n",
            "('mustafa', 'emin')\n"
          ],
          "name": "stdout"
        }
      ]
    }
  ]
}