{
  "nbformat": 4,
  "nbformat_minor": 0,
  "metadata": {
    "colab": {
      "name": "homework-01.ipynb",
      "provenance": [],
      "include_colab_link": true
    },
    "kernelspec": {
      "name": "python3",
      "display_name": "Python 3"
    },
    "language_info": {
      "name": "python"
    }
  },
  "cells": [
    {
      "cell_type": "markdown",
      "metadata": {
        "id": "view-in-github",
        "colab_type": "text"
      },
      "source": [
        "<a href=\"https://colab.research.google.com/github/volkan-ak/probability/blob/main/homework_01.ipynb\" target=\"_parent\"><img src=\"https://colab.research.google.com/assets/colab-badge.svg\" alt=\"Open In Colab\"/></a>"
      ]
    },
    {
      "cell_type": "markdown",
      "metadata": {
        "id": "YBiMHsmZdwD9"
      },
      "source": [
        "KOMBİNASYON\n",
        "\n",
        "\n",
        "\n",
        "SORU : 5 kişilik grupta 2 kişilik kaç farklı grup oluşturulabilir ?\n",
        "\n",
        "C(x,r) = C(5,2)\n",
        "C(5,2)= 5! / (2!(5−2)!)\n",
        "    = 10\n",
        "\n",
        "KOD :\n"
      ]
    },
    {
      "cell_type": "code",
      "metadata": {
        "colab": {
          "base_uri": "https://localhost:8080/"
        },
        "id": "fZqpRDZJeS96",
        "outputId": "20c86eeb-7684-451d-c1be-90fe4802cfd8"
      },
      "source": [
        "\n",
        "#kombinasyonun import edilmesi\n",
        "from itertools import combinations\n",
        "\n",
        "#listenin tanımlanması\n",
        "sequence = ['ahmet','mehmet','ali','mustafa','emin']\n",
        "\n",
        "#kombinasyonun uygulanması\n",
        "combinations = combinations(sequence, 2)\n",
        "\n",
        "\n",
        "\n",
        "#Çözümün ekrana yazdırılması\n",
        "print('Çözüm : \\n')\n",
        "for combination in combinations:\n",
        "    print(combination)"
      ],
      "execution_count": 35,
      "outputs": [
        {
          "output_type": "stream",
          "text": [
            "Çözüm : \n",
            "\n",
            "('ahmet', 'mehmet')\n",
            "('ahmet', 'ali')\n",
            "('ahmet', 'mustafa')\n",
            "('ahmet', 'emin')\n",
            "('mehmet', 'ali')\n",
            "('mehmet', 'mustafa')\n",
            "('mehmet', 'emin')\n",
            "('ali', 'mustafa')\n",
            "('ali', 'emin')\n",
            "('mustafa', 'emin')\n"
          ],
          "name": "stdout"
        }
      ]
    }
  ]
}