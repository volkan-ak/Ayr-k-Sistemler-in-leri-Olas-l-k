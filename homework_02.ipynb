{
  "nbformat": 4,
  "nbformat_minor": 0,
  "metadata": {
    "colab": {
      "name": "homework-02.ipynb",
      "provenance": [],
      "include_colab_link": true
    },
    "kernelspec": {
      "name": "python3",
      "display_name": "Python 3"
    },
    "language_info": {
      "name": "python"
    }
  },
  "cells": [
    {
      "cell_type": "markdown",
      "metadata": {
        "id": "view-in-github",
        "colab_type": "text"
      },
      "source": [
        "<a href=\"https://colab.research.google.com/github/volkan-ak/probability/blob/main/homework_02.ipynb\" target=\"_parent\"><img src=\"https://colab.research.google.com/assets/colab-badge.svg\" alt=\"Open In Colab\"/></a>"
      ]
    },
    {
      "cell_type": "markdown",
      "metadata": {
        "id": "ixvrRGD4iQnv"
      },
      "source": [
        "KOŞULLU OLASILIK\n",
        "\n",
        "\n",
        "Soru : Bir toptancı iki farklı üreticiden ürün almaktadır. ilk üretici, ikincisi üreticiden 4 kat fazla ürün üretmektedir. İlk üretici %80 ikinci üretici ise %50 ihtimalle kusursuz kalitede ürün üretmektedir.Toptancının müşteriye kusursuz ürün sattığı düşünüldüğünde bu ürünü birinci üreticiden gelme olasılığı nedir ?\n",
        "\n",
        "\n",
        "\n",
        "Ürünün birinci üreticiden gelme olasılığı P(F1)=4/5\n",
        "\n",
        "Ürünün ikinci  üreticiden gelme olasılığı P(F2)=1/5\n",
        "\n",
        "Ürünün birinci makineden üretidiğinde mükemmel olma olasılığı P(A|F1)=0,8\n",
        "\n",
        "Ürünün ikinci makineden üretidiğinde mükemmel olma olasılığı P(A|F2)=0,5\n",
        "\n",
        "P(A)- Seçilen ürünün mükemmel olma olasılığı\n",
        "\n",
        "Bayes Teoremi  : $$ P(A|B) * P(B) = P(B|A) * P(A) $$\n",
        "\n",
        "\n",
        "\n",
        "Çözüm :"
      ]
    },
    {
      "cell_type": "code",
      "metadata": {
        "colab": {
          "base_uri": "https://localhost:8080/"
        },
        "id": "tRKqfFRJk3ZY",
        "outputId": "cff463af-bebb-4c80-b5fe-06246866d62b"
      },
      "source": [
        "P_A_F1 = 0.8\n",
        "P_A_F2 = 0.5\n",
        "P_F1 = 4/5\n",
        "P_F2 = 1/5\n",
        "\n",
        "def kusursuz(P_A_F1, P_F1, P_A_F2,P_F2 ):\n",
        "    return P_A_F1 * P_F1 + P_A_F2 * P_F2\n",
        "def bayesteoremi(P_A, P_H1, P_A_H1):\n",
        "    return (P_A_F1 * P_F1) / P_A\n",
        "\n",
        "P_A = kusursuz(P_A_F1, P_F1, P_A_F2,P_F2 )\n",
        "\n",
        "P_F1_A = bayesteoremi(P_A, P_F1, P_A_F1)\n",
        "\n",
        "print('KUSURSUZ OLMA OLASILIĞI:', P_A)\n",
        "\n",
        "print('SEÇİLEN ÜRÜNÜN BİRİNCİ ÜRETİCİDEN GELME OLASILIĞI:', P_F1_A)"
      ],
      "execution_count": 14,
      "outputs": [
        {
          "output_type": "stream",
          "text": [
            "KUSURSUZ OLMA OLASILIĞI: 0.7400000000000001\n",
            "SEÇİLEN ÜRÜNÜN BİRİNCİ ÜRETİCİDEN GELME OLASILIĞI: 0.8648648648648649\n"
          ],
          "name": "stdout"
        }
      ]
    }
  ]
}