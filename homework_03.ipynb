{
  "nbformat": 4,
  "nbformat_minor": 0,
  "metadata": {
    "colab": {
      "name": "homework-03.ipynb",
      "provenance": [],
      "include_colab_link": true
    },
    "kernelspec": {
      "name": "python3",
      "display_name": "Python 3"
    },
    "language_info": {
      "name": "python"
    }
  },
  "cells": [
    {
      "cell_type": "markdown",
      "metadata": {
        "id": "view-in-github",
        "colab_type": "text"
      },
      "source": [
        "<a href=\"https://colab.research.google.com/github/volkan-ak/probability/blob/main/homework_03.ipynb\" target=\"_parent\"><img src=\"https://colab.research.google.com/assets/colab-badge.svg\" alt=\"Open In Colab\"/></a>"
      ]
    },
    {
      "cell_type": "markdown",
      "metadata": {
        "id": "bx63R4YDdiGC"
      },
      "source": [
        "#Probability Mass Function\n",
        "\n",
        "**Soru :** Bir torbada 1'den 10'a kadar numaralandırmış toplar bulunmaktadır.Çekilen rastgele bir top için olasılık dağılımını bulunuz.\n",
        "\n",
        "\n",
        "\n",
        "\n",
        "**KOD :**"
      ]
    },
    {
      "cell_type": "code",
      "metadata": {
        "id": "0WWQiBECSDyW",
        "colab": {
          "base_uri": "https://localhost:8080/",
          "height": 330
        },
        "outputId": "cd160394-8934-4e13-a624-12fd792726b2"
      },
      "source": [
        "import numpy as np\n",
        "import matplotlib.pyplot as plt\n",
        "\n",
        "num_throws = 2000 \n",
        "sonuclar = np.zeros(num_throws)\n",
        "for i in range(num_throws):\n",
        "\n",
        "    secim = np.random.choice(['1', '2', '3', '4', '5','6','7','8','9','10'])\n",
        "    sonuclar[i] = secim\n",
        "\n",
        "val, cnt = np.unique(sonuclar, return_counts=True)\n",
        "prop = cnt / len(sonuclar)\n",
        "\n",
        "print(sonuclar)\n",
        "print('\\n')\n",
        "# grafik islemleri\n",
        "plt.bar(val, prop)\n",
        "plt.xlim(0.5,10.5)\n",
        "plt.ylabel(\"olasılık\")\n",
        "plt.xlabel(\"Secim\")\n",
        "plt.show()\n",
        "plt.close()"
      ],
      "execution_count": 33,
      "outputs": [
        {
          "output_type": "stream",
          "text": [
            "[6. 3. 9. ... 6. 8. 8.]\n",
            "\n",
            "\n"
          ],
          "name": "stdout"
        },
        {
          "output_type": "display_data",
          "data": {
            "image/png": "[encoded data removed]",
            "text/plain": [
              "<Figure size 432x288 with 1 Axes>"
            ]
          },
          "metadata": {
            "tags": [],
            "needs_background": "light"
          }
        }
      ]
    }
  ]
}