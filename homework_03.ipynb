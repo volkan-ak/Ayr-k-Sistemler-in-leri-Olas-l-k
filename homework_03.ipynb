{
  "nbformat": 4,
  "nbformat_minor": 0,
  "metadata": {
    "colab": {
      "name": "homework-03.ipynb",
      "provenance": [],
      "include_colab_link": true
    },
    "kernelspec": {
      "name": "python3",
      "display_name": "Python 3"
    },
    "language_info": {
      "name": "python"
    }
  },
  "cells": [
    {
      "cell_type": "markdown",
      "metadata": {
        "id": "view-in-github",
        "colab_type": "text"
      },
      "source": [
        "<a href=\"https://colab.research.google.com/github/volkan-ak/probability/blob/main/homework_03.ipynb\" target=\"_parent\"><img src=\"https://colab.research.google.com/assets/colab-badge.svg\" alt=\"Open In Colab\"/></a>"
      ]
    },
    {
      "cell_type": "markdown",
      "metadata": {
        "id": "bx63R4YDdiGC"
      },
      "source": [
        "#Probability Mass Function\n",
        "\n",
        "**Soru :** Yeşil göz rengine sahip anne ve kahverengi göz rengine sahip babanın bebeğinin göz rengi için olasılık kütle fonsiyonu\n",
        "\n",
        "(1)Mavi : 1/8 \n",
        "\n",
        "(2)Kahverengi : 1/2\n",
        "\n",
        "(3)Yeşil : 3/8\n",
        "\n",
        "\n",
        "\n",
        "**KOD :**"
      ]
    },
    {
      "cell_type": "code",
      "metadata": {
        "id": "0WWQiBECSDyW",
        "outputId": "46e55be5-8ff6-44a3-aa94-7a439b2675fe",
        "colab": {
          "base_uri": "https://localhost:8080/",
          "height": 330
        }
      },
      "source": [
        "import numpy as np\n",
        "import matplotlib.pyplot as plt\n",
        "\n",
        "num_throws = 5000 \n",
        "sonuclar = np.zeros(num_throws)\n",
        "for i in range(num_throws):\n",
        "\n",
        "    secim = np.random.choice(['1', '2', '2', '2', '2','3','3','3'])\n",
        "    sonuclar[i] = secim\n",
        "\n",
        "val, cnt = np.unique(sonuclar, return_counts=True)\n",
        "prop = cnt / len(sonuclar)\n",
        "\n",
        "print(sonuclar)\n",
        "print('\\n')\n",
        "# grafik islemleri\n",
        "plt.bar(val, prop)\n",
        "plt.ylabel(\"olasılık\")\n",
        "plt.xlabel(\"Secim\")\n",
        "plt.show()\n",
        "plt.close()"
      ],
      "execution_count": 22,
      "outputs": [
        {
          "output_type": "stream",
          "text": [
            "[2. 2. 2. ... 3. 2. 1.]\n",
            "\n",
            "\n"
          ],
          "name": "stdout"
        },
        {
          "output_type": "display_data",
          "data": {
            "image/png": "[encoded data removed]",
            "text/plain": [
              "<Figure size 432x288 with 1 Axes>"
            ]
          },
          "metadata": {
            "tags": [],
            "needs_background": "light"
          }
        }
      ]
    }
  ]
}